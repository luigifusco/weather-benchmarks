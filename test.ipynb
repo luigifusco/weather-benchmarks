{
 "cells": [
  {
   "cell_type": "code",
   "execution_count": 1,
   "metadata": {},
   "outputs": [],
   "source": [
    "import xarray as xr\n",
    "from lib.compressed_data_source import CompressedSource"
   ]
  },
  {
   "cell_type": "code",
   "execution_count": 2,
   "metadata": {},
   "outputs": [],
   "source": [
    "import datetime\n",
    "import os\n",
    "\n",
    "import dotenv\n",
    "import xarray\n",
    "\n",
    "dotenv.load_dotenv()\n",
    "\n",
    "from earth2mip import inference_ensemble, registry"
   ]
  },
  {
   "cell_type": "code",
   "execution_count": 3,
   "metadata": {},
   "outputs": [],
   "source": [
    "package = registry.get_model(\"e2mip://pangu\")\n",
    "package = registry.get_model(\"e2mip://dlwp\")\n"
   ]
  },
  {
   "cell_type": "code",
   "execution_count": 4,
   "metadata": {},
   "outputs": [
    {
     "name": "stdout",
     "output_type": "stream",
     "text": [
      "Loading models into memory\n"
     ]
    },
    {
     "name": "stderr",
     "output_type": "stream",
     "text": [
      "/scratch/lfusco/spack/opt/spack/linux-centos8-zen2/gcc-12.4.0/python-venv-1.0-73crmkz7ylpz4x2zodpflj2rmmvm3ntz/lib/python3.11/site-packages/torch/cuda/__init__.py:128: UserWarning: CUDA initialization: The NVIDIA driver on your system is too old (found version 11050). Please update your GPU driver by downloading and installing a new version from the URL: http://www.nvidia.com/Download/index.aspx Alternatively, go to: https://pytorch.org to install a PyTorch version that has been compiled with your version of the CUDA driver. (Triggered internally at ../c10/cuda/CUDAFunctions.cpp:108.)\n",
      "  return torch._C._cuda_getDeviceCount() > 0\n"
     ]
    },
    {
     "ename": "RuntimeError",
     "evalue": "invalid argument to exchangeDevice",
     "output_type": "error",
     "traceback": [
      "\u001b[0;31m---------------------------------------------------------------------------\u001b[0m",
      "\u001b[0;31mRuntimeError\u001b[0m                              Traceback (most recent call last)",
      "Cell \u001b[0;32mIn[4], line 11\u001b[0m\n\u001b[1;32m      9\u001b[0m \u001b[38;5;66;03m# Load DLWP model from registry\u001b[39;00m\n\u001b[1;32m     10\u001b[0m package \u001b[38;5;241m=\u001b[39m registry\u001b[38;5;241m.\u001b[39mget_model(\u001b[38;5;124m\"\u001b[39m\u001b[38;5;124mdlwp\u001b[39m\u001b[38;5;124m\"\u001b[39m)\n\u001b[0;32m---> 11\u001b[0m dlwp_inference_model \u001b[38;5;241m=\u001b[39m \u001b[43mdlwp\u001b[49m\u001b[38;5;241;43m.\u001b[39;49m\u001b[43mload\u001b[49m\u001b[43m(\u001b[49m\u001b[43mpackage\u001b[49m\u001b[43m)\u001b[49m\n\u001b[1;32m     13\u001b[0m \u001b[38;5;66;03m# Load Pangu model(s) from registry\u001b[39;00m\n\u001b[1;32m     14\u001b[0m package \u001b[38;5;241m=\u001b[39m registry\u001b[38;5;241m.\u001b[39mget_model(\u001b[38;5;124m\"\u001b[39m\u001b[38;5;124mpangu\u001b[39m\u001b[38;5;124m\"\u001b[39m)\n",
      "File \u001b[0;32m/scratch/lfusco/spack/opt/spack/linux-centos8-zen2/gcc-12.4.0/python-venv-1.0-73crmkz7ylpz4x2zodpflj2rmmvm3ntz/lib/python3.11/site-packages/earth2mip/networks/dlwp.py:244\u001b[0m, in \u001b[0;36mload\u001b[0;34m(package, pretrained, device)\u001b[0m\n\u001b[1;32m    241\u001b[0m ll_to_cs_mapfile_path \u001b[38;5;241m=\u001b[39m package\u001b[38;5;241m.\u001b[39mget(\u001b[38;5;124m\"\u001b[39m\u001b[38;5;124mmap_LL721x1440_CS64.nc\u001b[39m\u001b[38;5;124m\"\u001b[39m)\n\u001b[1;32m    242\u001b[0m cs_to_ll_mapfile_path \u001b[38;5;241m=\u001b[39m package\u001b[38;5;241m.\u001b[39mget(\u001b[38;5;124m\"\u001b[39m\u001b[38;5;124mmap_CS64_LL721x1440.nc\u001b[39m\u001b[38;5;124m\"\u001b[39m)\n\u001b[0;32m--> 244\u001b[0m \u001b[43m\u001b[49m\u001b[38;5;28;43;01mwith\u001b[39;49;00m\u001b[43m \u001b[49m\u001b[43mtorch\u001b[49m\u001b[38;5;241;43m.\u001b[39;49m\u001b[43mcuda\u001b[49m\u001b[38;5;241;43m.\u001b[39;49m\u001b[43mdevice\u001b[49m\u001b[43m(\u001b[49m\u001b[43mdevice\u001b[49m\u001b[43m)\u001b[49m\u001b[43m:\u001b[49m\n\u001b[1;32m    245\u001b[0m \u001b[43m    \u001b[49m\u001b[43mcore_model\u001b[49m\u001b[43m \u001b[49m\u001b[38;5;241;43m=\u001b[39;49m\u001b[43m \u001b[49m\u001b[43mmodulus\u001b[49m\u001b[38;5;241;43m.\u001b[39;49m\u001b[43mModule\u001b[49m\u001b[38;5;241;43m.\u001b[39;49m\u001b[43mfrom_checkpoint\u001b[49m\u001b[43m(\u001b[49m\u001b[43mpackage\u001b[49m\u001b[38;5;241;43m.\u001b[39;49m\u001b[43mget\u001b[49m\u001b[43m(\u001b[49m\u001b[38;5;124;43m\"\u001b[39;49m\u001b[38;5;124;43mdlwp.mdlus\u001b[39;49m\u001b[38;5;124;43m\"\u001b[39;49m\u001b[43m)\u001b[49m\u001b[43m)\u001b[49m\n\u001b[1;32m    246\u001b[0m \u001b[43m    \u001b[49m\u001b[43mmodel\u001b[49m\u001b[43m \u001b[49m\u001b[38;5;241;43m=\u001b[39;49m\u001b[43m \u001b[49m\u001b[43m_DLWPWrapper\u001b[49m\u001b[43m(\u001b[49m\n\u001b[1;32m    247\u001b[0m \u001b[43m        \u001b[49m\u001b[43mcore_model\u001b[49m\u001b[43m,\u001b[49m\n\u001b[1;32m    248\u001b[0m \u001b[43m        \u001b[49m\u001b[43mlsm\u001b[49m\u001b[43m,\u001b[49m\n\u001b[0;32m   (...)\u001b[0m\n\u001b[1;32m    253\u001b[0m \u001b[43m        \u001b[49m\u001b[43mcs_to_ll_mapfile_path\u001b[49m\u001b[43m,\u001b[49m\n\u001b[1;32m    254\u001b[0m \u001b[43m    \u001b[49m\u001b[43m)\u001b[49m\n",
      "File \u001b[0;32m/scratch/lfusco/spack/opt/spack/linux-centos8-zen2/gcc-12.4.0/python-venv-1.0-73crmkz7ylpz4x2zodpflj2rmmvm3ntz/lib/python3.11/site-packages/torch/cuda/__init__.py:386\u001b[0m, in \u001b[0;36mdevice.__enter__\u001b[0;34m(self)\u001b[0m\n\u001b[1;32m    385\u001b[0m \u001b[38;5;28;01mdef\u001b[39;00m \u001b[38;5;21m__enter__\u001b[39m(\u001b[38;5;28mself\u001b[39m):\n\u001b[0;32m--> 386\u001b[0m     \u001b[38;5;28mself\u001b[39m\u001b[38;5;241m.\u001b[39mprev_idx \u001b[38;5;241m=\u001b[39m \u001b[43mtorch\u001b[49m\u001b[38;5;241;43m.\u001b[39;49m\u001b[43mcuda\u001b[49m\u001b[38;5;241;43m.\u001b[39;49m\u001b[43m_exchange_device\u001b[49m\u001b[43m(\u001b[49m\u001b[38;5;28;43mself\u001b[39;49m\u001b[38;5;241;43m.\u001b[39;49m\u001b[43midx\u001b[49m\u001b[43m)\u001b[49m\n",
      "\u001b[0;31mRuntimeError\u001b[0m: invalid argument to exchangeDevice"
     ]
    }
   ],
   "source": [
    "import earth2mip.networks.dlwp as dlwp\n",
    "import earth2mip.networks.pangu as pangu\n",
    "\n",
    "# Output directoy\n",
    "output_dir = \"outputs/02_model_comparison\"\n",
    "os.makedirs(output_dir, exist_ok=True)\n",
    "\n",
    "print(\"Loading models into memory\")\n",
    "# Load DLWP model from registry\n",
    "package = registry.get_model(\"dlwp\")\n",
    "dlwp_inference_model = dlwp.load(package)\n",
    "\n",
    "# Load Pangu model(s) from registry\n",
    "package = registry.get_model(\"pangu\")\n",
    "pangu_inference_model = pangu.load(package)"
   ]
  },
  {
   "cell_type": "code",
   "execution_count": null,
   "metadata": {},
   "outputs": [],
   "source": [
    "time = datetime.datetime(2018, 1, 1)\n",
    "\n",
    "dlwp_data_source = CompressedSource(dlwp_inference_model.in_channel_names)\n",
    "pangu_data_source = CompressedSource(pangu_inference_model.in_channel_names)"
   ]
  },
  {
   "cell_type": "code",
   "execution_count": null,
   "metadata": {},
   "outputs": [],
   "source": [
    "print(\"Running Pangu inference\")\n",
    "pangu_ds = inference_ensemble.run_basic_inference(\n",
    "    pangu_inference_model,\n",
    "    n=24,  # Note we run 24 steps here because Pangu is at 6 hour dt (6 day forecast)\n",
    "    data_source=pangu_data_source,\n",
    "    time=time,\n",
    ")\n",
    "pangu_ds.to_netcdf(f\"{output_dir}/pangu_inference_out.nc\")\n",
    "print(pangu_ds)\n",
    "\n",
    "print(\"Running DLWP inference\")\n",
    "dlwp_ds = inference_ensemble.run_basic_inference(\n",
    "    dlwp_inference_model,\n",
    "    n=24,  # Note we run 24 steps. DLWP steps at 12 hr dt, but yeilds output every 6 hrs (6 day forecast)\n",
    "    data_source=dlwp_data_source,\n",
    "    time=time,\n",
    ")\n",
    "dlwp_ds.to_netcdf(f\"{output_dir}/dlwp_inference_out.nc\")\n",
    "print(dlwp_ds)\n",
    "\n",
    "import matplotlib.pyplot as plt\n",
    "\n",
    "# Open dataset from saved NetCDFs\n",
    "pangu_ds = xarray.open_dataarray(f\"{output_dir}/pangu_inference_out.nc\")\n",
    "dlwp_ds = xarray.open_dataarray(f\"{output_dir}/dlwp_inference_out.nc\")\n",
    "\n",
    "# Get data-arrays at 12 hour steps\n",
    "pangu_arr = pangu_ds.sel(channel=\"z500\").values[::2]\n",
    "dlwp_arr = dlwp_ds.sel(channel=\"z500\").values[::2]\n",
    "# Plot\n",
    "plt.close(\"all\")\n",
    "fig, axs = plt.subplots(2, 13, figsize=(13 * 4, 5))\n",
    "for i in range(13):\n",
    "    axs[0, i].imshow(dlwp_arr[i, 0])\n",
    "    axs[1, i].imshow(pangu_arr[i, 0])\n",
    "    axs[0, i].set_title(time + datetime.timedelta(hours=12 * i))\n",
    "\n",
    "axs[0, 0].set_ylabel(\"DLWP\")\n",
    "axs[1, 0].set_ylabel(\"Pangu\")\n",
    "plt.suptitle(\"z500 DLWP vs Pangu\")\n",
    "plt.savefig(f\"{output_dir}/pangu_dlwp_z500.png\")"
   ]
  }
 ],
 "metadata": {
  "kernelspec": {
   "display_name": "Python 3",
   "language": "python",
   "name": "python3"
  },
  "language_info": {
   "codemirror_mode": {
    "name": "ipython",
    "version": 3
   },
   "file_extension": ".py",
   "mimetype": "text/x-python",
   "name": "python",
   "nbconvert_exporter": "python",
   "pygments_lexer": "ipython3",
   "version": "3.11.9"
  }
 },
 "nbformat": 4,
 "nbformat_minor": 2
}
